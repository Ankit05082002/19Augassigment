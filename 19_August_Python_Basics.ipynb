{
 "cells": [
  {
   "cell_type": "code",
   "execution_count": 61,
   "metadata": {},
   "outputs": [],
   "source": [
    "#Q1.Declare two variables, `x` and `y`, and assign them integer values. Swap the\n",
    "#values of these variables without using any temporary variable.\n",
    "x=5\n",
    "y=10"
   ]
  },
  {
   "cell_type": "code",
   "execution_count": 62,
   "metadata": {},
   "outputs": [],
   "source": [
    "x = x+y\n",
    "y = x-y \n",
    "x = x-y"
   ]
  },
  {
   "cell_type": "code",
   "execution_count": 63,
   "metadata": {},
   "outputs": [
    {
     "name": "stdout",
     "output_type": "stream",
     "text": [
      "after swapping;\n",
      "x= 10\n",
      "y= 5\n"
     ]
    }
   ],
   "source": [
    "#ANS.\n",
    "print(\"after swapping;\")\n",
    "print(\"x=\",x)\n",
    "print(\"y=\",y)"
   ]
  },
  {
   "cell_type": "code",
   "execution_count": 68,
   "metadata": {},
   "outputs": [],
   "source": [
    "#Q2.Given value\n",
    "Length=10\n",
    "Width=5"
   ]
  },
  {
   "cell_type": "code",
   "execution_count": 65,
   "metadata": {},
   "outputs": [],
   "source": [
    "#Taking input from user for length and width \n",
    "Length=float(input())\n",
    "Width=float(input())"
   ]
  },
  {
   "cell_type": "code",
   "execution_count": 66,
   "metadata": {},
   "outputs": [],
   "source": [
    "#calculating the area of rectangle\n",
    "area= Length*Width"
   ]
  },
  {
   "cell_type": "code",
   "execution_count": 67,
   "metadata": {},
   "outputs": [
    {
     "name": "stdout",
     "output_type": "stream",
     "text": [
      "The area of the rectangle is 50.0\n"
     ]
    }
   ],
   "source": [
    "#Calculated area of rectangle.\n",
    "print(\"The area of the rectangle is\",area)"
   ]
  },
  {
   "cell_type": "code",
   "execution_count": null,
   "metadata": {},
   "outputs": [],
   "source": [
    "#Q3.Taking temperature as per this given value\n",
    "Celsius=25"
   ]
  },
  {
   "cell_type": "code",
   "execution_count": 25,
   "metadata": {},
   "outputs": [],
   "source": [
    "#Taking input form the user for temperature in clesius\n",
    "Celsius=float(input())"
   ]
  },
  {
   "cell_type": "code",
   "execution_count": 26,
   "metadata": {},
   "outputs": [],
   "source": [
    "#Converting from celsius to fahrenhiet\n",
    "fahrenheit=(Celsius*9/5)+32"
   ]
  },
  {
   "cell_type": "code",
   "execution_count": 27,
   "metadata": {},
   "outputs": [
    {
     "name": "stdout",
     "output_type": "stream",
     "text": [
      "temperature in fahrenheit 77.0\n"
     ]
    }
   ],
   "source": [
    "#Displaying the converted temperture from celsius to fahrenheit\n",
    "print(\"temperature in fahrenheit\",fahrenheit)\n"
   ]
  },
  {
   "cell_type": "code",
   "execution_count": null,
   "metadata": {},
   "outputs": [],
   "source": [
    "#Topic string Based Questions"
   ]
  },
  {
   "cell_type": "code",
   "execution_count": 31,
   "metadata": {},
   "outputs": [],
   "source": [
    "#Taking the input from user\n",
    "A5=input()"
   ]
  },
  {
   "cell_type": "code",
   "execution_count": 32,
   "metadata": {},
   "outputs": [],
   "source": [
    "#calculating the length of the string\n",
    "string=len(A5)\n"
   ]
  },
  {
   "cell_type": "code",
   "execution_count": 33,
   "metadata": {},
   "outputs": [
    {
     "name": "stdout",
     "output_type": "stream",
     "text": [
      "The length of the string 11\n"
     ]
    }
   ],
   "source": [
    "#Displaying the calculated value of string\n",
    "print(\"The length of the string\",string)"
   ]
  },
  {
   "cell_type": "code",
   "execution_count": 72,
   "metadata": {},
   "outputs": [],
   "source": [
    "#Q2.Taking input from user\n",
    "A6=input()"
   ]
  },
  {
   "cell_type": "code",
   "execution_count": 73,
   "metadata": {},
   "outputs": [],
   "source": [
    "#intializing a variable to count vowels\n",
    "vowel_count=0"
   ]
  },
  {
   "cell_type": "code",
   "execution_count": 74,
   "metadata": {},
   "outputs": [],
   "source": [
    "#List of the vowel\n",
    "Vowel=['a','e','i','o','u']"
   ]
  },
  {
   "cell_type": "code",
   "execution_count": 75,
   "metadata": {},
   "outputs": [],
   "source": [
    " #counting the vowels in the sentence\n",
    "for char in A6:\n",
    "        if char in vowels:\n",
    "                vowel_count+=1  "
   ]
  },
  {
   "cell_type": "code",
   "execution_count": 76,
   "metadata": {},
   "outputs": [
    {
     "name": "stdout",
     "output_type": "stream",
     "text": [
      "Number of vowels in the sentence 6\n"
     ]
    }
   ],
   "source": [
    "#Displaying the vowel count\n",
    "print(\"Number of vowels in the sentence\",vowel_count)"
   ]
  },
  {
   "cell_type": "code",
   "execution_count": 65,
   "metadata": {},
   "outputs": [],
   "source": [
    "#Q3.Take input from user\n",
    "A7=input()"
   ]
  },
  {
   "cell_type": "code",
   "execution_count": 66,
   "metadata": {},
   "outputs": [],
   "source": [
    "#slicing the string in reversed order\n",
    "reversed_string=A7[::-1]"
   ]
  },
  {
   "cell_type": "code",
   "execution_count": 70,
   "metadata": {},
   "outputs": [
    {
     "name": "stdout",
     "output_type": "stream",
     "text": [
      " ecnetnes\n"
     ]
    }
   ],
   "source": [
    "#Displaying the string in reserved order\n",
    "print(\"\",reversed_string)"
   ]
  },
  {
   "cell_type": "code",
   "execution_count": 57,
   "metadata": {},
   "outputs": [],
   "source": [
    "#Q4.Take input from user\n",
    "Entireinput= \"i love my country\"\n",
    "A8=input()\n"
   ]
  },
  {
   "cell_type": "code",
   "execution_count": 58,
   "metadata": {},
   "outputs": [],
   "source": [
    "#Removing space from the string\n",
    "cleaned_string=A8.replace(\"\",\"\")"
   ]
  },
  {
   "cell_type": "code",
   "execution_count": 59,
   "metadata": {},
   "outputs": [],
   "source": [
    "#Reversing the cleaned string\n",
    "reversed_string=cleaned_string[::-1]"
   ]
  },
  {
   "cell_type": "code",
   "execution_count": 60,
   "metadata": {},
   "outputs": [
    {
     "name": "stdout",
     "output_type": "stream",
     "text": [
      "The entered string is not a palindrome\n"
     ]
    }
   ],
   "source": [
    "#cheking the string\n",
    "if cleaned_string == reversed_string:\n",
    "    print(\"The entered string is a palindrome\")\n",
    "else:\n",
    "    print(\"The entered string is not a palindrome\")\n"
   ]
  },
  {
   "cell_type": "code",
   "execution_count": 52,
   "metadata": {},
   "outputs": [],
   "source": [
    "#Q5.\n",
    "a99 = input(\"Enter a string: \")"
   ]
  },
  {
   "cell_type": "code",
   "execution_count": 71,
   "metadata": {},
   "outputs": [],
   "source": [
    "# Removing spaces from the string\n",
    "neww = a99.replace(\" \", \"\")"
   ]
  },
  {
   "cell_type": "code",
   "execution_count": 74,
   "metadata": {},
   "outputs": [
    {
     "name": "stdout",
     "output_type": "stream",
     "text": [
      "new string without spaces: hello,howareyou\n"
     ]
    }
   ],
   "source": [
    "# Displaying the modified string without spaces\n",
    "print(\"new string without spaces:\", neww)"
   ]
  }
 ],
 "metadata": {
  "kernelspec": {
   "display_name": "Python 3",
   "language": "python",
   "name": "python3"
  },
  "language_info": {
   "codemirror_mode": {
    "name": "ipython",
    "version": 3
   },
   "file_extension": ".py",
   "mimetype": "text/x-python",
   "name": "python",
   "nbconvert_exporter": "python",
   "pygments_lexer": "ipython3",
   "version": "3.11.4"
  },
  "orig_nbformat": 4
 },
 "nbformat": 4,
 "nbformat_minor": 2
}
